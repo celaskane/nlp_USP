{
  "nbformat": 4,
  "nbformat_minor": 0,
  "metadata": {
    "colab": {
      "name": "plnUSP_lista1.ipynb",
      "provenance": [],
      "collapsed_sections": []
    },
    "kernelspec": {
      "name": "python3",
      "display_name": "Python 3"
    },
    "language_info": {
      "name": "python"
    }
  },
  "cells": [
    {
      "cell_type": "markdown",
      "metadata": {
        "id": "lJD_h5pAe7Vg"
      },
      "source": [
        "***Curso de Extensão em Processamento de Linguagem Natural com Python***\n",
        "---\n",
        "*Instituto de Ciências Matemáticas e de Computação da Universidade de São Paulo (ICMC-USP)*\n",
        "\n",
        "\n",
        "---\n",
        "Leandro de Assis Madeira - 2021"
      ]
    },
    {
      "cell_type": "markdown",
      "metadata": {
        "id": "v3_gbiPdgc-J"
      },
      "source": [
        "Atualizando a biblioteca spaCy"
      ]
    },
    {
      "cell_type": "code",
      "metadata": {
        "colab": {
          "base_uri": "https://localhost:8080/"
        },
        "id": "wzurhuZ0gceq",
        "outputId": "0df35764-2913-4d7b-888c-45a7694d1f84"
      },
      "source": [
        "!pip install --upgrade spacy"
      ],
      "execution_count": 1,
      "outputs": [
        {
          "output_type": "stream",
          "name": "stdout",
          "text": [
            "Requirement already satisfied: spacy in /usr/local/lib/python3.7/dist-packages (2.2.4)\n",
            "Collecting spacy\n",
            "  Downloading spacy-3.1.2-cp37-cp37m-manylinux_2_17_x86_64.manylinux2014_x86_64.whl (5.8 MB)\n",
            "\u001b[K     |████████████████████████████████| 5.8 MB 4.2 MB/s \n",
            "\u001b[?25hCollecting pydantic!=1.8,!=1.8.1,<1.9.0,>=1.7.4\n",
            "  Downloading pydantic-1.8.2-cp37-cp37m-manylinux2014_x86_64.whl (10.1 MB)\n",
            "\u001b[K     |████████████████████████████████| 10.1 MB 24.3 MB/s \n",
            "\u001b[?25hRequirement already satisfied: requests<3.0.0,>=2.13.0 in /usr/local/lib/python3.7/dist-packages (from spacy) (2.23.0)\n",
            "Requirement already satisfied: cymem<2.1.0,>=2.0.2 in /usr/local/lib/python3.7/dist-packages (from spacy) (2.0.5)\n",
            "Requirement already satisfied: setuptools in /usr/local/lib/python3.7/dist-packages (from spacy) (57.4.0)\n",
            "Collecting spacy-legacy<3.1.0,>=3.0.7\n",
            "  Downloading spacy_legacy-3.0.8-py2.py3-none-any.whl (14 kB)\n",
            "Requirement already satisfied: jinja2 in /usr/local/lib/python3.7/dist-packages (from spacy) (2.11.3)\n",
            "Collecting catalogue<2.1.0,>=2.0.4\n",
            "  Downloading catalogue-2.0.6-py3-none-any.whl (17 kB)\n",
            "Requirement already satisfied: tqdm<5.0.0,>=4.38.0 in /usr/local/lib/python3.7/dist-packages (from spacy) (4.62.0)\n",
            "Requirement already satisfied: murmurhash<1.1.0,>=0.28.0 in /usr/local/lib/python3.7/dist-packages (from spacy) (1.0.5)\n",
            "Collecting pathy>=0.3.5\n",
            "  Downloading pathy-0.6.0-py3-none-any.whl (42 kB)\n",
            "\u001b[K     |████████████████████████████████| 42 kB 1.2 MB/s \n",
            "\u001b[?25hRequirement already satisfied: typing-extensions<4.0.0.0,>=3.7.4 in /usr/local/lib/python3.7/dist-packages (from spacy) (3.7.4.3)\n",
            "Requirement already satisfied: blis<0.8.0,>=0.4.0 in /usr/local/lib/python3.7/dist-packages (from spacy) (0.4.1)\n",
            "Requirement already satisfied: packaging>=20.0 in /usr/local/lib/python3.7/dist-packages (from spacy) (21.0)\n",
            "Requirement already satisfied: numpy>=1.15.0 in /usr/local/lib/python3.7/dist-packages (from spacy) (1.19.5)\n",
            "Collecting thinc<8.1.0,>=8.0.8\n",
            "  Downloading thinc-8.0.10-cp37-cp37m-manylinux_2_17_x86_64.manylinux2014_x86_64.whl (623 kB)\n",
            "\u001b[K     |████████████████████████████████| 623 kB 60.1 MB/s \n",
            "\u001b[?25hCollecting typer<0.4.0,>=0.3.0\n",
            "  Downloading typer-0.3.2-py3-none-any.whl (21 kB)\n",
            "Collecting srsly<3.0.0,>=2.4.1\n",
            "  Downloading srsly-2.4.1-cp37-cp37m-manylinux2014_x86_64.whl (456 kB)\n",
            "\u001b[K     |████████████████████████████████| 456 kB 58.0 MB/s \n",
            "\u001b[?25hRequirement already satisfied: wasabi<1.1.0,>=0.8.1 in /usr/local/lib/python3.7/dist-packages (from spacy) (0.8.2)\n",
            "Requirement already satisfied: preshed<3.1.0,>=3.0.2 in /usr/local/lib/python3.7/dist-packages (from spacy) (3.0.5)\n",
            "Requirement already satisfied: zipp>=0.5 in /usr/local/lib/python3.7/dist-packages (from catalogue<2.1.0,>=2.0.4->spacy) (3.5.0)\n",
            "Requirement already satisfied: pyparsing>=2.0.2 in /usr/local/lib/python3.7/dist-packages (from packaging>=20.0->spacy) (2.4.7)\n",
            "Requirement already satisfied: smart-open<6.0.0,>=5.0.0 in /usr/local/lib/python3.7/dist-packages (from pathy>=0.3.5->spacy) (5.1.0)\n",
            "Requirement already satisfied: idna<3,>=2.5 in /usr/local/lib/python3.7/dist-packages (from requests<3.0.0,>=2.13.0->spacy) (2.10)\n",
            "Requirement already satisfied: certifi>=2017.4.17 in /usr/local/lib/python3.7/dist-packages (from requests<3.0.0,>=2.13.0->spacy) (2021.5.30)\n",
            "Requirement already satisfied: urllib3!=1.25.0,!=1.25.1,<1.26,>=1.21.1 in /usr/local/lib/python3.7/dist-packages (from requests<3.0.0,>=2.13.0->spacy) (1.24.3)\n",
            "Requirement already satisfied: chardet<4,>=3.0.2 in /usr/local/lib/python3.7/dist-packages (from requests<3.0.0,>=2.13.0->spacy) (3.0.4)\n",
            "Requirement already satisfied: click<7.2.0,>=7.1.1 in /usr/local/lib/python3.7/dist-packages (from typer<0.4.0,>=0.3.0->spacy) (7.1.2)\n",
            "Requirement already satisfied: MarkupSafe>=0.23 in /usr/local/lib/python3.7/dist-packages (from jinja2->spacy) (2.0.1)\n",
            "Installing collected packages: catalogue, typer, srsly, pydantic, thinc, spacy-legacy, pathy, spacy\n",
            "  Attempting uninstall: catalogue\n",
            "    Found existing installation: catalogue 1.0.0\n",
            "    Uninstalling catalogue-1.0.0:\n",
            "      Successfully uninstalled catalogue-1.0.0\n",
            "  Attempting uninstall: srsly\n",
            "    Found existing installation: srsly 1.0.5\n",
            "    Uninstalling srsly-1.0.5:\n",
            "      Successfully uninstalled srsly-1.0.5\n",
            "  Attempting uninstall: thinc\n",
            "    Found existing installation: thinc 7.4.0\n",
            "    Uninstalling thinc-7.4.0:\n",
            "      Successfully uninstalled thinc-7.4.0\n",
            "  Attempting uninstall: spacy\n",
            "    Found existing installation: spacy 2.2.4\n",
            "    Uninstalling spacy-2.2.4:\n",
            "      Successfully uninstalled spacy-2.2.4\n",
            "Successfully installed catalogue-2.0.6 pathy-0.6.0 pydantic-1.8.2 spacy-3.1.2 spacy-legacy-3.0.8 srsly-2.4.1 thinc-8.0.10 typer-0.3.2\n"
          ]
        }
      ]
    },
    {
      "cell_type": "markdown",
      "metadata": {
        "id": "qjraLV2Rnr29"
      },
      "source": [
        "# ***Lista de Exercícios 1***\n",
        "\n",
        "---\n",
        "*15 de setembro de 2021*\n"
      ]
    },
    {
      "cell_type": "code",
      "metadata": {
        "colab": {
          "base_uri": "https://localhost:8080/"
        },
        "id": "XSKfOyPemk8j",
        "outputId": "07c19b53-cd8f-442b-cdeb-46ad31c2a0de"
      },
      "source": [
        "'''1. Crie três variáveis e atribua os valores a seguir: a=1, b=5.9 e c=‘teste’. \n",
        "    A partir disso, retorne o tipo de cada uma das variáveis.'''\n",
        "\n",
        "a=1\n",
        "b=5.9\n",
        "c='teste'\n",
        "print(type(a))\n",
        "print(type(b))\n",
        "print(type(c))"
      ],
      "execution_count": 19,
      "outputs": [
        {
          "output_type": "stream",
          "name": "stdout",
          "text": [
            "<class 'int'>\n",
            "<class 'float'>\n",
            "<class 'str'>\n"
          ]
        }
      ]
    },
    {
      "cell_type": "code",
      "metadata": {
        "colab": {
          "base_uri": "https://localhost:8080/"
        },
        "id": "kwcAmJAznBfu",
        "outputId": "59e48318-6502-44ef-91e3-bcabb9a4c6c0"
      },
      "source": [
        "'''2. Troque o valor da variável a por ‘1’ e verifique \n",
        "    se o tipo da variável mudou.'''\n",
        "\n",
        "a='1'\n",
        "print(type(a))"
      ],
      "execution_count": 20,
      "outputs": [
        {
          "output_type": "stream",
          "name": "stdout",
          "text": [
            "<class 'str'>\n"
          ]
        }
      ]
    },
    {
      "cell_type": "code",
      "metadata": {
        "id": "6CTyyRosoMM-"
      },
      "source": [
        "'''3. Faça a soma da variável b com a variável c. Interprete a saída, tanto em \n",
        "    caso de execução correta quanto em caso de execução com erro.'''\n",
        "\n",
        "b+c #operação não suportada pelos dados serem de tipos diferentes"
      ],
      "execution_count": null,
      "outputs": []
    },
    {
      "cell_type": "code",
      "metadata": {
        "colab": {
          "base_uri": "https://localhost:8080/"
        },
        "id": "aACia6RzoaR0",
        "outputId": "93459876-e217-49f4-a828-4d486ad112e6"
      },
      "source": [
        "'''4. Crie uma lista com números de 0 a 9 (em qualquer ordem). Com ela, faça:\n",
        "    a. Adicione o número 6\n",
        "    b. Insira o número 7 na 3ª posição da lista\n",
        "    c. Remova o elemento 3 da lista\n",
        "    d. Adicione o número 4\n",
        "    e. Verifique o número de ocorrências do número 4 na lista'''\n",
        "\n",
        "l = list(range(10))\n",
        "l.append(6)\n",
        "l.insert(2,7)\n",
        "l.remove(3)\n",
        "l.append(4)\n",
        "l.count(4)\n",
        "l"
      ],
      "execution_count": 31,
      "outputs": [
        {
          "output_type": "execute_result",
          "data": {
            "text/plain": [
              "[0, 1, 7, 2, 4, 5, 6, 7, 8, 9, 6, 4]"
            ]
          },
          "metadata": {},
          "execution_count": 31
        }
      ]
    },
    {
      "cell_type": "code",
      "metadata": {
        "colab": {
          "base_uri": "https://localhost:8080/"
        },
        "id": "4td9aCNWqWyX",
        "outputId": "4b94a330-7ffc-48ee-8c39-4350f327dc54"
      },
      "source": [
        "'''5. Ainda com a lista criada na questão anterior, faça:\n",
        "    a. Retorne os primeiros 3 elementos da lista\n",
        "    b. Retorne os elementos que estão da 3ª posição até a 7ª posição da lista\n",
        "    c. Retorne os elementos da lista de 3 em 3 elementos\n",
        "    d. Retorne os 3 últimos elementos da lista\n",
        "    e. Retorne todos os elementos menos os 4 últimos da lista'''\n",
        "\n",
        "l[:3]\n",
        "l[2:7]\n",
        "l[::3]\n",
        "l[-3:]\n",
        "l[:-4]"
      ],
      "execution_count": 35,
      "outputs": [
        {
          "output_type": "execute_result",
          "data": {
            "text/plain": [
              "[0, 1, 7, 2, 4, 5, 6, 7]"
            ]
          },
          "metadata": {},
          "execution_count": 35
        }
      ]
    },
    {
      "cell_type": "code",
      "metadata": {
        "colab": {
          "base_uri": "https://localhost:8080/"
        },
        "id": "DkNyQncIrPb1",
        "outputId": "ffcaf945-97fb-4242-84c6-52c11b1462c1"
      },
      "source": [
        "'''6. Com a lista das questões anteriores, retorne o 6º elemento da lista.'''\n",
        "l[5]"
      ],
      "execution_count": 39,
      "outputs": [
        {
          "output_type": "execute_result",
          "data": {
            "text/plain": [
              "5"
            ]
          },
          "metadata": {},
          "execution_count": 39
        }
      ]
    },
    {
      "cell_type": "code",
      "metadata": {
        "colab": {
          "base_uri": "https://localhost:8080/"
        },
        "id": "fPdUTXq6sYAP",
        "outputId": "58bfe1f8-b60d-4483-f0a8-afd0c6da80fd"
      },
      "source": [
        "'''7. Altere o valor do 7º elemento da lista para o valor 12.'''\n",
        "l.remove(l[6])\n",
        "l.insert(6, 12)\n",
        "l"
      ],
      "execution_count": 41,
      "outputs": [
        {
          "output_type": "execute_result",
          "data": {
            "text/plain": [
              "[0, 1, 2, 4, 5, 7, 12, 8, 9, 6, 4]"
            ]
          },
          "metadata": {},
          "execution_count": 41
        }
      ]
    },
    {
      "cell_type": "code",
      "metadata": {
        "colab": {
          "base_uri": "https://localhost:8080/"
        },
        "id": "Ik0OGaL-t3HP",
        "outputId": "e90f3c4c-f7a7-4d96-c42e-178ad14e3816"
      },
      "source": [
        "'''8. Inverta a ordem dos elementos na lista.'''\n",
        "l.reverse()\n",
        "l"
      ],
      "execution_count": 44,
      "outputs": [
        {
          "output_type": "execute_result",
          "data": {
            "text/plain": [
              "[4, 6, 9, 8, 12, 7, 5, 4, 2, 1, 0]"
            ]
          },
          "metadata": {},
          "execution_count": 44
        }
      ]
    },
    {
      "cell_type": "code",
      "metadata": {
        "colab": {
          "base_uri": "https://localhost:8080/"
        },
        "id": "9MMncTDouScf",
        "outputId": "772e742f-9344-4ee1-98dc-f74429fd8dfb"
      },
      "source": [
        "'''9. Ordene a lista.'''\n",
        "l.sort()\n",
        "l"
      ],
      "execution_count": 45,
      "outputs": [
        {
          "output_type": "execute_result",
          "data": {
            "text/plain": [
              "[0, 1, 2, 4, 4, 5, 6, 7, 8, 9, 12]"
            ]
          },
          "metadata": {},
          "execution_count": 45
        }
      ]
    },
    {
      "cell_type": "code",
      "metadata": {
        "colab": {
          "base_uri": "https://localhost:8080/"
        },
        "id": "k2jZ91pQudhC",
        "outputId": "87310f11-b804-474c-9b42-d22634fc40a5"
      },
      "source": [
        "'''10. Crie uma tupla com números de 0 a 9 (em qualquer ordem) e tente:\n",
        "    a. Alterar o valor do 3º elemento da tupla para o valor 10\n",
        "    b. Verificar o índice (posição) do valor 5 na tupla'''\n",
        "\n",
        "t = tuple(range(9))\n",
        "# t[2] = 10 não se altera tuplas\n",
        "t.index(5)"
      ],
      "execution_count": 52,
      "outputs": [
        {
          "output_type": "execute_result",
          "data": {
            "text/plain": [
              "5"
            ]
          },
          "metadata": {},
          "execution_count": 52
        }
      ]
    },
    {
      "cell_type": "code",
      "metadata": {
        "colab": {
          "base_uri": "https://localhost:8080/"
        },
        "id": "yp8LG3R1u4Cu",
        "outputId": "76a69c0e-d909-472a-b4c4-375e3712b7e3"
      },
      "source": [
        "'''11. Crie um dicionário com 5 entradas e suas respectivas chaves e valores. \n",
        "    Faça:\n",
        "    a. Imprima todas as chaves do dicionário\n",
        "    b. Imprima todos os valores do dicionário\n",
        "    c. Imprima todos os itens do dicionário\n",
        "    d. Imprima o 2º item do dicionário\n",
        "    e. Imprima o dicionário completo\n",
        "    f. Percorra o dicionário, imprimindo para cada entrada o modelo “(chave)\n",
        "    tem como valor (valor)”'''\n",
        "\n",
        "dic = {}\n",
        "dic['a'] = 1\n",
        "dic['b'] = 2\n",
        "dic['c'] = 3\n",
        "dic['d'] = 4\n",
        "dic['e'] = 5\n",
        "print(\"Chaves = \", dic.keys())\n",
        "print(\"Valores = \", dic.values())\n",
        "print(\"Todos os itens: \", dic.items())\n",
        "print(\"2º item do dicionário: \", {dic['b']})\n",
        "for i, j in dic.items():\n",
        "  print(i, \"tem como valor: \", j)"
      ],
      "execution_count": 80,
      "outputs": [
        {
          "output_type": "stream",
          "name": "stdout",
          "text": [
            "Chaves =  dict_keys(['a', 'b', 'c', 'd', 'e'])\n",
            "Valores =  dict_values([1, 2, 3, 4, 5])\n",
            "Todos os itens:  dict_items([('a', 1), ('b', 2), ('c', 3), ('d', 4), ('e', 5)])\n",
            "2º item do dicionário:  {2}\n",
            "a tem como valor:  1\n",
            "b tem como valor:  2\n",
            "c tem como valor:  3\n",
            "d tem como valor:  4\n",
            "e tem como valor:  5\n"
          ]
        }
      ]
    },
    {
      "cell_type": "code",
      "metadata": {
        "id": "jZG7WZGdwG_7"
      },
      "source": [
        "'''12. Crie um arquivo e:\n",
        "    a. Escreva nele os números de 1 a 10\n",
        "    b. Depois de escrito, imprima na tela todos os números do arquivo\n",
        "    c. Escreva no arquivo os números de 11 a 20, substituindo os números que\n",
        "    estavam antes no arquivo\n",
        "    d. Escreva no arquivo os números de 21 a 30, adicionando os números no\n",
        "    final do arquivo (sem apagar o que já estavam lá)\n",
        "    e. Imprima na tela todos os números do arquivo novamente (de 11 a 30)\n",
        "    f. Imprima na tela todos os números do arquivo novamente, mas agora\n",
        "    linha por linha'''\n",
        "\n",
        "outfile = open(\"result.txt\", 'w')\n",
        "\n",
        "outfile.write(\"Números de 1 a 10\\n\")\n",
        "for i in range(1,11):\n",
        "  outfile.write(str(i) + '\\n')\n",
        "\n",
        "outfile = open(\"result.txt\", 'a')\n",
        "\n",
        "outfile.write(\"Adicionando números de 11 a 20\\n\")\n",
        "for i in range(11,21):\n",
        "  outfile.write(str(i) + '\\n')"
      ],
      "execution_count": 91,
      "outputs": []
    },
    {
      "cell_type": "code",
      "metadata": {
        "id": "PeQdPwTv1zjW"
      },
      "source": [
        ""
      ],
      "execution_count": null,
      "outputs": []
    }
  ]
}