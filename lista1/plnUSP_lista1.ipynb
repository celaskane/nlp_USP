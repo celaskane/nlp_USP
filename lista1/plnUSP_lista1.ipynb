{
  "nbformat": 4,
  "nbformat_minor": 2,
  "metadata": {
    "colab": {
      "name": "plnUSP_lista1.ipynb",
      "provenance": [],
      "collapsed_sections": []
    },
    "kernelspec": {
      "name": "python3",
      "display_name": "Python 3"
    },
    "language_info": {
      "name": "python"
    }
  },
  "cells": [
    {
      "cell_type": "markdown",
      "source": [
        "***Curso de Extensão em Processamento de Linguagem Natural com Python***\n",
        "---\n",
        "*Instituto de Ciências Matemáticas e de Computação da Universidade de São Paulo (ICMC-USP)*\n",
        "\n",
        "\n",
        "---\n",
        "Leandro de Assis Madeira - 2021"
      ],
      "metadata": {
        "id": "lJD_h5pAe7Vg"
      }
    },
    {
      "cell_type": "markdown",
      "source": [
        "# ***Lista de Exercícios 1***\n",
        "\n",
        "---\n",
        "*15 de setembro de 2021*\n"
      ],
      "metadata": {
        "id": "qjraLV2Rnr29"
      }
    },
    {
      "cell_type": "code",
      "execution_count": 19,
      "source": [
        "'''1. Crie três variáveis e atribua os valores a seguir: a=1, b=5.9 e c=‘teste’. \r\n",
        "    A partir disso, retorne o tipo de cada uma das variáveis.'''\r\n",
        "\r\n",
        "a=1\r\n",
        "b=5.9\r\n",
        "c='teste'\r\n",
        "print(type(a))\r\n",
        "print(type(b))\r\n",
        "print(type(c))"
      ],
      "outputs": [
        {
          "output_type": "stream",
          "name": "stdout",
          "text": [
            "<class 'int'>\n",
            "<class 'float'>\n",
            "<class 'str'>\n"
          ]
        }
      ],
      "metadata": {
        "colab": {
          "base_uri": "https://localhost:8080/"
        },
        "id": "XSKfOyPemk8j",
        "outputId": "07c19b53-cd8f-442b-cdeb-46ad31c2a0de"
      }
    },
    {
      "cell_type": "code",
      "execution_count": 20,
      "source": [
        "'''2. Troque o valor da variável a por ‘1’ e verifique \n",
        "    se o tipo da variável mudou.'''\n",
        "\n",
        "a='1'\n",
        "print(type(a))"
      ],
      "outputs": [
        {
          "output_type": "stream",
          "name": "stdout",
          "text": [
            "<class 'str'>\n"
          ]
        }
      ],
      "metadata": {
        "colab": {
          "base_uri": "https://localhost:8080/"
        },
        "id": "kwcAmJAznBfu",
        "outputId": "59e48318-6502-44ef-91e3-bcabb9a4c6c0"
      }
    },
    {
      "cell_type": "code",
      "execution_count": null,
      "source": [
        "'''3. Faça a soma da variável b com a variável c. Interprete a saída, tanto em \n",
        "    caso de execução correta quanto em caso de execução com erro.'''\n",
        "\n",
        "b+c #operação não suportada pelos dados serem de tipos diferentes"
      ],
      "outputs": [],
      "metadata": {
        "id": "6CTyyRosoMM-"
      }
    },
    {
      "cell_type": "code",
      "execution_count": 31,
      "source": [
        "'''4. Crie uma lista com números de 0 a 9 (em qualquer ordem). Com ela, faça:\n",
        "    a. Adicione o número 6\n",
        "    b. Insira o número 7 na 3ª posição da lista\n",
        "    c. Remova o elemento 3 da lista\n",
        "    d. Adicione o número 4\n",
        "    e. Verifique o número de ocorrências do número 4 na lista'''\n",
        "\n",
        "l = list(range(10))\n",
        "l.append(6)\n",
        "l.insert(2,7)\n",
        "l.remove(3)\n",
        "l.append(4)\n",
        "l.count(4)\n",
        "l"
      ],
      "outputs": [
        {
          "output_type": "execute_result",
          "data": {
            "text/plain": [
              "[0, 1, 7, 2, 4, 5, 6, 7, 8, 9, 6, 4]"
            ]
          },
          "metadata": {},
          "execution_count": 31
        }
      ],
      "metadata": {
        "colab": {
          "base_uri": "https://localhost:8080/"
        },
        "id": "aACia6RzoaR0",
        "outputId": "93459876-e217-49f4-a828-4d486ad112e6"
      }
    },
    {
      "cell_type": "code",
      "execution_count": 35,
      "source": [
        "'''5. Ainda com a lista criada na questão anterior, faça:\n",
        "    a. Retorne os primeiros 3 elementos da lista\n",
        "    b. Retorne os elementos que estão da 3ª posição até a 7ª posição da lista\n",
        "    c. Retorne os elementos da lista de 3 em 3 elementos\n",
        "    d. Retorne os 3 últimos elementos da lista\n",
        "    e. Retorne todos os elementos menos os 4 últimos da lista'''\n",
        "\n",
        "l[:3]\n",
        "l[2:7]\n",
        "l[::3]\n",
        "l[-3:]\n",
        "l[:-4]"
      ],
      "outputs": [
        {
          "output_type": "execute_result",
          "data": {
            "text/plain": [
              "[0, 1, 7, 2, 4, 5, 6, 7]"
            ]
          },
          "metadata": {},
          "execution_count": 35
        }
      ],
      "metadata": {
        "colab": {
          "base_uri": "https://localhost:8080/"
        },
        "id": "4td9aCNWqWyX",
        "outputId": "4b94a330-7ffc-48ee-8c39-4350f327dc54"
      }
    },
    {
      "cell_type": "code",
      "execution_count": 39,
      "source": [
        "'''6. Com a lista das questões anteriores, retorne o 6º elemento da lista.'''\n",
        "l[5]"
      ],
      "outputs": [
        {
          "output_type": "execute_result",
          "data": {
            "text/plain": [
              "5"
            ]
          },
          "metadata": {},
          "execution_count": 39
        }
      ],
      "metadata": {
        "colab": {
          "base_uri": "https://localhost:8080/"
        },
        "id": "DkNyQncIrPb1",
        "outputId": "ffcaf945-97fb-4242-84c6-52c11b1462c1"
      }
    },
    {
      "cell_type": "code",
      "execution_count": 41,
      "source": [
        "'''7. Altere o valor do 7º elemento da lista para o valor 12.'''\n",
        "l.remove(l[6])\n",
        "l.insert(6, 12)\n",
        "l"
      ],
      "outputs": [
        {
          "output_type": "execute_result",
          "data": {
            "text/plain": [
              "[0, 1, 2, 4, 5, 7, 12, 8, 9, 6, 4]"
            ]
          },
          "metadata": {},
          "execution_count": 41
        }
      ],
      "metadata": {
        "colab": {
          "base_uri": "https://localhost:8080/"
        },
        "id": "fPdUTXq6sYAP",
        "outputId": "58bfe1f8-b60d-4483-f0a8-afd0c6da80fd"
      }
    },
    {
      "cell_type": "code",
      "execution_count": 44,
      "source": [
        "'''8. Inverta a ordem dos elementos na lista.'''\n",
        "l.reverse()\n",
        "l"
      ],
      "outputs": [
        {
          "output_type": "execute_result",
          "data": {
            "text/plain": [
              "[4, 6, 9, 8, 12, 7, 5, 4, 2, 1, 0]"
            ]
          },
          "metadata": {},
          "execution_count": 44
        }
      ],
      "metadata": {
        "colab": {
          "base_uri": "https://localhost:8080/"
        },
        "id": "Ik0OGaL-t3HP",
        "outputId": "e90f3c4c-f7a7-4d96-c42e-178ad14e3816"
      }
    },
    {
      "cell_type": "code",
      "execution_count": 45,
      "source": [
        "'''9. Ordene a lista.'''\n",
        "l.sort()\n",
        "l"
      ],
      "outputs": [
        {
          "output_type": "execute_result",
          "data": {
            "text/plain": [
              "[0, 1, 2, 4, 4, 5, 6, 7, 8, 9, 12]"
            ]
          },
          "metadata": {},
          "execution_count": 45
        }
      ],
      "metadata": {
        "colab": {
          "base_uri": "https://localhost:8080/"
        },
        "id": "9MMncTDouScf",
        "outputId": "772e742f-9344-4ee1-98dc-f74429fd8dfb"
      }
    },
    {
      "cell_type": "code",
      "execution_count": 52,
      "source": [
        "'''10. Crie uma tupla com números de 0 a 9 (em qualquer ordem) e tente:\n",
        "    a. Alterar o valor do 3º elemento da tupla para o valor 10\n",
        "    b. Verificar o índice (posição) do valor 5 na tupla'''\n",
        "\n",
        "t = tuple(range(9))\n",
        "# t[2] = 10 não se altera tuplas\n",
        "t.index(5)"
      ],
      "outputs": [
        {
          "output_type": "execute_result",
          "data": {
            "text/plain": [
              "5"
            ]
          },
          "metadata": {},
          "execution_count": 52
        }
      ],
      "metadata": {
        "colab": {
          "base_uri": "https://localhost:8080/"
        },
        "id": "k2jZ91pQudhC",
        "outputId": "87310f11-b804-474c-9b42-d22634fc40a5"
      }
    },
    {
      "cell_type": "code",
      "execution_count": 80,
      "source": [
        "'''11. Crie um dicionário com 5 entradas e suas respectivas chaves e valores. \n",
        "    Faça:\n",
        "    a. Imprima todas as chaves do dicionário\n",
        "    b. Imprima todos os valores do dicionário\n",
        "    c. Imprima todos os itens do dicionário\n",
        "    d. Imprima o 2º item do dicionário\n",
        "    e. Imprima o dicionário completo\n",
        "    f. Percorra o dicionário, imprimindo para cada entrada o modelo “(chave)\n",
        "    tem como valor (valor)”'''\n",
        "\n",
        "dic = {}\n",
        "dic['a'] = 1\n",
        "dic['b'] = 2\n",
        "dic['c'] = 3\n",
        "dic['d'] = 4\n",
        "dic['e'] = 5\n",
        "print(\"Chaves = \", dic.keys())\n",
        "print(\"Valores = \", dic.values())\n",
        "print(\"Todos os itens: \", dic.items())\n",
        "print(\"2º item do dicionário: \", {dic['b']})\n",
        "for i, j in dic.items():\n",
        "  print(i, \"tem como valor: \", j)"
      ],
      "outputs": [
        {
          "output_type": "stream",
          "name": "stdout",
          "text": [
            "Chaves =  dict_keys(['a', 'b', 'c', 'd', 'e'])\n",
            "Valores =  dict_values([1, 2, 3, 4, 5])\n",
            "Todos os itens:  dict_items([('a', 1), ('b', 2), ('c', 3), ('d', 4), ('e', 5)])\n",
            "2º item do dicionário:  {2}\n",
            "a tem como valor:  1\n",
            "b tem como valor:  2\n",
            "c tem como valor:  3\n",
            "d tem como valor:  4\n",
            "e tem como valor:  5\n"
          ]
        }
      ],
      "metadata": {
        "colab": {
          "base_uri": "https://localhost:8080/"
        },
        "id": "yp8LG3R1u4Cu",
        "outputId": "76a69c0e-d909-472a-b4c4-375e3712b7e3"
      }
    },
    {
      "cell_type": "code",
      "execution_count": 91,
      "source": [
        "'''12. Crie um arquivo e:\n",
        "    a. Escreva nele os números de 1 a 10\n",
        "    b. Depois de escrito, imprima na tela todos os números do arquivo\n",
        "    c. Escreva no arquivo os números de 11 a 20, substituindo os números que\n",
        "    estavam antes no arquivo\n",
        "    d. Escreva no arquivo os números de 21 a 30, adicionando os números no\n",
        "    final do arquivo (sem apagar o que já estavam lá)\n",
        "    e. Imprima na tela todos os números do arquivo novamente (de 11 a 30)\n",
        "    f. Imprima na tela todos os números do arquivo novamente, mas agora\n",
        "    linha por linha'''\n",
        "\n",
        "outfile = open(\"result.txt\", 'w')\n",
        "\n",
        "outfile.write(\"Números de 1 a 10\\n\")\n",
        "for i in range(1,11):\n",
        "  outfile.write(str(i) + '\\n')\n",
        "\n",
        "outfile = open(\"result.txt\", 'a')\n",
        "\n",
        "outfile.write(\"Adicionando números de 11 a 20\\n\")\n",
        "for i in range(11,21):\n",
        "  outfile.write(str(i) + '\\n')"
      ],
      "outputs": [],
      "metadata": {
        "id": "jZG7WZGdwG_7"
      }
    },
    {
      "cell_type": "code",
      "execution_count": null,
      "source": [],
      "outputs": [],
      "metadata": {
        "id": "PeQdPwTv1zjW"
      }
    }
  ]
}